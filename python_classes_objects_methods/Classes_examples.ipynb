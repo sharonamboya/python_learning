{
 "cells": [
  {
   "cell_type": "markdown",
   "metadata": {},
   "source": [
    "<div align=\"center\" style=\" font-size: 80%; text-align: center; margin: 0 auto\">\n",
    "<img src=\"https://raw.githubusercontent.com/Explore-AI/Pictures/master/Python-Notebook-Banners/Examples.png\"  style=\"display: block; margin-left: auto; margin-right: auto;\";/>\n",
    "</div>"
   ]
  },
  {
   "cell_type": "markdown",
   "id": "f662d169",
   "metadata": {},
   "source": [
    "# Examples: Classes\n"
   ]
  },
  {
   "cell_type": "markdown",
   "id": "26af890c",
   "metadata": {},
   "source": [
    "In this notebook, we will use Python classes to encapsulate data manipulation and visualisation operations. We'll see how classes can serve as a collection of methods, much like a library, that perform common tasks on the data they contain."
   ]
  },
  {
   "cell_type": "markdown",
   "id": "93e02199",
   "metadata": {},
   "source": [
    "> ⚠️ If you haven't already, you'll have to install the `matplotlib` library to be able to run the code in this notebook. Uncomment and run the code below to do the installation. "
   ]
  },
  {
   "cell_type": "code",
   "execution_count": 2,
   "id": "4b5994a9",
   "metadata": {},
   "outputs": [
    {
     "name": "stdout",
     "output_type": "stream",
     "text": [
      "Requirement already satisfied: matplotlib in c:\\users\\lenovo t14s\\.conda\\envs\\learning-env-2\\lib\\site-packages (3.10.6)\n",
      "Requirement already satisfied: contourpy>=1.0.1 in c:\\users\\lenovo t14s\\.conda\\envs\\learning-env-2\\lib\\site-packages (from matplotlib) (1.3.3)\n",
      "Requirement already satisfied: cycler>=0.10 in c:\\users\\lenovo t14s\\.conda\\envs\\learning-env-2\\lib\\site-packages (from matplotlib) (0.12.1)\n",
      "Requirement already satisfied: fonttools>=4.22.0 in c:\\users\\lenovo t14s\\.conda\\envs\\learning-env-2\\lib\\site-packages (from matplotlib) (4.59.2)\n",
      "Requirement already satisfied: kiwisolver>=1.3.1 in c:\\users\\lenovo t14s\\.conda\\envs\\learning-env-2\\lib\\site-packages (from matplotlib) (1.4.9)\n",
      "Requirement already satisfied: numpy>=1.23 in c:\\users\\lenovo t14s\\.conda\\envs\\learning-env-2\\lib\\site-packages (from matplotlib) (2.3.3)\n",
      "Requirement already satisfied: packaging>=20.0 in c:\\users\\lenovo t14s\\.conda\\envs\\learning-env-2\\lib\\site-packages (from matplotlib) (25.0)\n",
      "Requirement already satisfied: pillow>=8 in c:\\users\\lenovo t14s\\.conda\\envs\\learning-env-2\\lib\\site-packages (from matplotlib) (11.3.0)\n",
      "Requirement already satisfied: pyparsing>=2.3.1 in c:\\users\\lenovo t14s\\.conda\\envs\\learning-env-2\\lib\\site-packages (from matplotlib) (3.2.4)\n",
      "Requirement already satisfied: python-dateutil>=2.7 in c:\\users\\lenovo t14s\\.conda\\envs\\learning-env-2\\lib\\site-packages (from matplotlib) (2.9.0.post0)\n",
      "Requirement already satisfied: six>=1.5 in c:\\users\\lenovo t14s\\.conda\\envs\\learning-env-2\\lib\\site-packages (from python-dateutil>=2.7->matplotlib) (1.17.0)\n"
     ]
    }
   ],
   "source": [
    "! pip install matplotlib"
   ]
  },
  {
   "cell_type": "code",
   "execution_count": 3,
   "id": "8580ac6a",
   "metadata": {},
   "outputs": [
    {
     "name": "stdout",
     "output_type": "stream",
     "text": [
      "C:\\Users\\Lenovo T14s\\.conda\\envs\\learning-env-2\\Scripts\\pip.exe\n"
     ]
    }
   ],
   "source": [
    "! where pip"
   ]
  },
  {
   "cell_type": "markdown",
   "id": "2d230d14",
   "metadata": {
    "tags": []
   },
   "source": [
    "## Learning objectives\n",
    "\n",
    "By the end of this train, you should be able to:\n",
    "\n",
    "- Define a class that encapsulates data and operations on it.\n",
    "- Instantiate a class and use its methods to manipulate data.\n",
    "- Understand the practical reasons for using classes."
   ]
  },
  {
   "cell_type": "markdown",
   "metadata": {},
   "source": [
    "## Data Analysis with a Custom Class\n",
    "\n",
    "Suppose we have various data sets representing different aspects of a forest's health — tree growth, rainfall, soil quality, etc. We would use a custom class to neatly package these operations."
   ]
  },
  {
   "cell_type": "markdown",
   "metadata": {},
   "source": [
    "### Defining a `DataAnalysis` class\n",
    "\n",
    "Let's design the `DataAnalysis` class to encapsulate various data manipulation and visualisation operations that can be performed on a given dataset. "
   ]
  },
  {
   "cell_type": "code",
   "execution_count": 4,
   "metadata": {},
   "outputs": [],
   "source": [
    "# Import pyplot module from matplotlib library\n",
    "import matplotlib.pyplot as plt\n",
    "\n",
    "class DataAnalysis:\n",
    "    def __init__(self, data):\n",
    "        self.data = data\n",
    "\n",
    "    def sum_of_data(self):\n",
    "        # Return the sum of the data\n",
    "        return sum(self.data)\n",
    "\n",
    "    def data_doubled(self):\n",
    "        # Return a new list with elements doubled\n",
    "        return [2 * element for element in self.data]\n",
    "\n",
    "    def plot_data_histogram(self):\n",
    "        # Plot a histogram of the data\n",
    "        plt.bar(range(len(self.data)), self.data, edgecolor='black')\n",
    "        plt.title('Histogram of Data Elements')\n",
    "        plt.xlabel('Index')\n",
    "        plt.ylabel('Data Value')\n",
    "        plt.show()"
   ]
  },
  {
   "cell_type": "markdown",
   "id": "69c9ada6",
   "metadata": {},
   "source": [
    "We start by importing the `pyplot` module from the `matplotlib` library, which is a popular data visualisation library in Python. It is introduced here because we want to include the capability to visually represent the data in the `DataAnalysis` class. The `pyplot` module provides a procedural interface to the `matplotlib` object-oriented plotting library. It's used here for its versatile plotting functions, such as `bar` for making bar plots (or histograms in this case).\n",
    "\n",
    "The alias `plt` is used as a convention to simplify our calls to the functions provided by `matplotlib.pyplot`. Instead of writing `matplotlib.pyplot.bar`, we can write `plt.bar`, which is shorter and more convenient.\n",
    "\n"
   ]
  },
  {
   "cell_type": "markdown",
   "metadata": {},
   "source": [
    "### Using the `DataAnalysis` class\n",
    "\n",
    "Let's say we have a list representing annual rainfall measurements in a forest. We can use our `DataAnalysis` class to analyse this data."
   ]
  },
  {
   "cell_type": "code",
   "execution_count": 5,
   "metadata": {},
   "outputs": [
    {
     "data": {
      "image/png": "[encoded data removed]",
      "text/plain": [
       "<Figure size 640x480 with 1 Axes>"
      ]
     },
     "metadata": {},
     "output_type": "display_data"
    },
    {
     "name": "stdout",
     "output_type": "stream",
     "text": [
      "total_rainfall: 6400\n",
      "rainfall_doubled: [1600, 2400, 1800, 2800, 2000, 2200]\n"
     ]
    }
   ],
   "source": [
    "# A list of annual rainfall measurements\n",
    "rainfall_data = [800, 1200, 900, 1400, 1000, 1100]\n",
    "\n",
    "# Creating an instance of DataAnalysis with rainfall data\n",
    "rainfall_analysis = DataAnalysis(rainfall_data)\n",
    "\n",
    "# Visualising the data\n",
    "rainfall_analysis.plot_data_histogram()\n",
    "\n",
    "# Accessing methods to analyse the data\n",
    "total_rainfall = rainfall_analysis.sum_of_data()\n",
    "rainfall_doubled = rainfall_analysis.data_doubled()\n",
    "print(f'total_rainfall: {total_rainfall}')\n",
    "print(f'rainfall_doubled: {rainfall_doubled}')\n"
   ]
  },
  {
   "cell_type": "markdown",
   "id": "30088802",
   "metadata": {},
   "source": [
    "### Why create a `DataAnalysis` class?\n",
    "\n",
    "Creating a class for data analysis allows us to:\n",
    "\n",
    "1. **Encapsulate related methods**: All the methods that operate on a specific set of data are contained within one class.\n",
    "2. **Reuse code**: The same class can be instantiated with different data sets, avoiding the need to rewrite functions for each new data set.\n",
    "3. **Maintain state**: Instances of the class can maintain the state of the data they contain, which can be useful for tracking changes over time.\n",
    "4. **Abstract complexity**: The user of the class doesn't need to know how methods like `plot_data_histogram` are implemented. They can simply use the method to get the desired outcome.\n",
    "\n",
    "\n"
   ]
  },
  {
   "cell_type": "markdown",
   "id": "e9956efe",
   "metadata": {
    "tags": []
   },
   "source": [
    "## Summary\n",
    "\n",
    "In the context of forest conservation, using a class like `DataAnalysis` can streamline the analysis of environmental data. This structured approach is invaluable for scientists and conservationists who regularly work with complex data sets, enabling them to focus on the insights rather than the mechanics of data manipulation."
   ]
  },
  {
   "cell_type": "markdown",
   "id": "26fd094b-0fee-46f1-a4b8-73766813c42b",
   "metadata": {
    "tags": []
   },
   "source": [
    "#  \n",
    "\n",
    "<div align=\"center\" style=\" font-size: 80%; text-align: center; margin: 0 auto\">\n",
    "<img src=\"https://raw.githubusercontent.com/Explore-AI/Pictures/refs/heads/master/ALX_banners/ALX_Navy.png\"  style=\"width:140px\";/>\n",
    "</div>"
   ]
  }
 ],
 "metadata": {
  "kernelspec": {
   "display_name": "learning-env-2",
   "language": "python",
   "name": "python3"
  },
  "language_info": {
   "codemirror_mode": {
    "name": "ipython",
    "version": 3
   },
   "file_extension": ".py",
   "mimetype": "text/x-python",
   "name": "python",
   "nbconvert_exporter": "python",
   "pygments_lexer": "ipython3",
   "version": "3.13.7"
  }
 },
 "nbformat": 4,
 "nbformat_minor": 5
}
